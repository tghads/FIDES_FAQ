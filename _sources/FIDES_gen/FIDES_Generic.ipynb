{
 "cells": [
  {
   "cell_type": "markdown",
   "metadata": {},
   "source": [
    "# FIDES USAGE\n",
    "\n",
    "In this chapter, the following sections will be treated:\n",
    "1. [FIDES Usage](FIDES_usage.ipynb)\n",
    "2. [Mission profile](Mission_profile.ipynb)\n",
    "3. [Generic questions and expertool questions](Gen_and_Expertool.ipynb)\n",
    "4. [FIDES EEE models](FIDES_models.ipynb)\n",
    "5. [Stresses](Stresses.ipynb)"
   ]
  },
  {
   "cell_type": "code",
   "execution_count": null,
   "metadata": {},
   "outputs": [],
   "source": []
  }
 ],
 "metadata": {
  "kernelspec": {
   "display_name": "Python 3",
   "language": "python",
   "name": "python3"
  },
  "language_info": {
   "codemirror_mode": {
    "name": "ipython",
    "version": 3
   },
   "file_extension": ".py",
   "mimetype": "text/x-python",
   "name": "python",
   "nbconvert_exporter": "python",
   "pygments_lexer": "ipython3",
   "version": "3.8.5"
  }
 },
 "nbformat": 4,
 "nbformat_minor": 4
}
