{
 "cells": [
  {
   "cell_type": "markdown",
   "metadata": {},
   "source": [
    "# FIDES models\n",
    "\n",
    "**This section gather the questions related to a problem linked to a FIDES EEE models**"
   ]
  },
  {
   "cell_type": "markdown",
   "metadata": {},
   "source": [
    "## <span style=\"color:rgb(255,102,25)\"> Categorization of AD Converter </span>\n",
    "\n",
    "<span style=\"color:rgb(255,128,128)\">**We remember you told  AD Converter is categorized into low level analog, (not digital) in the training session.  Please make sure our understanding is OK or not.**</span>\n",
    "\n",
    "A/D converter should be modelled as:\n",
    "“Analogue and Hybrid circuit (MOS, bipolar, BiCMOS)   [ECIC_58]”\n",
    "\n",
    "It corresponds to the worst case scenario."
   ]
  },
  {
   "cell_type": "markdown",
   "metadata": {},
   "source": [
    "## <span style=\"color:rgb(255,102,25)\"> [HF and RF] How to fill η when the Duty Cycle is changing ? </span>\n",
    "\n",
    "<span style=\"color:rgb(255,128,128)\">**How to fill this parameter as the number of Duty Cycle is changing depending on the operating phase?**</span>\n",
    "\n",
    "AIRBUS recommends either:\n",
    "1. To model this component for each different phase and to fill the Duty cycle for each phase in column S, W, AA…). Then, no duty cycle shall be filled in the column N.\n",
    "2. Or to use the worst case duty cycle and to apply it for all the phases. Then to fill only the column N with the worst case duty cycle."
   ]
  },
  {
   "cell_type": "markdown",
   "metadata": {},
   "source": [
    "## <span style=\"color:rgb(255,102,25)\"> How to model thermistors </span>\n",
    "\n",
    "<span style=\"color:rgb(255,128,128)\">**The thermistor model does not exist, how can we model it?**</span>\n",
    "\n",
    "As no models exist in FIDES for thermistors, the following has to be applied:\n",
    "```{image} Images/Rth.png\n",
    ":alt: Thermistors_NRPM\n",
    ":align: center\n",
    "```\n",
    "Excerpt from NRPM handbook rev. B."
   ]
  },
  {
   "cell_type": "markdown",
   "metadata": {},
   "source": [
    "## <span style=\"color:rgb(255,102,25)\"> Ceramic capacitors: High CV vs Medium CV </span>\n",
    "\n",
    "<span style=\"color:rgb(255,128,128)\">**Ceramic capacitor with High CV product have a huge impact on the reliability calculation. ADS spoke about modelling them as Medium CV, why?**</span>\n",
    "\n",
    "The rationale behind this justification is that there is no technological limitation for the capacitor model. So instead of chosing High CV, you can select Medium CV, because ADS policy is to not select component which are at the limit of their technology.\n",
    "The technological limit refers to the component with the highest value possible in its product range, for a given type of component / Package.\n",
    "\n",
    "Applicable for Type 1 and Type 2 ceramic capacitors, cf NRPM part III.\n"
   ]
  },
  {
   "cell_type": "markdown",
   "metadata": {},
   "source": [
    "## <span style=\"color:rgb(255,102,25)\"> SAW filter model </span>\n",
    "\n",
    "<span style=\"color:rgb(255,128,128)\">**We have to model a SAW filter, is the correct model the ” [HFOT_04] Passive components for microwaves: Surface wave filters “ one?**</span>\n",
    "\n",
    "Theorically yes, this is the proper model for SAW.\n",
    "However, the FIDES consortium agreed that the model is too pessimistic (feedback on the power taken into account). The same consortium determined that the more accurate model for SAW is “Fixed passive components for microwaves: Attenuator, load (50 Ohm), filter, power divider (combiner, splitter) [HFOT_01]”"
   ]
  },
  {
   "cell_type": "markdown",
   "metadata": {},
   "source": [
    "## <span style=\"color:rgb(255,102,25)\"> FIDES resistor models </span>\n",
    "\n",
    "<span style=\"color:rgb(255,128,128)\">**What type of resistor should I take into account if this is not a chip or a minimelf?**</span>\n",
    "\n",
    "* Power film resistor \n",
    "    * Use of RTO20 with an up screening to level up because it is not qualified for space\n",
    "    * Used in some OneWeb units\n",
    "* Low power wirewound accuracy resistor\n",
    "    * Does not exist anymore in the spatial area for 15 years\n",
    "* Power wirewound\n",
    "    * Type RER /RWR\n",
    "    * Extremely reliable, as chips (even at high temperature) (𝝀_𝟎 from FIDES to be reviewed ?)"
   ]
  }
 ],
 "metadata": {
  "kernelspec": {
   "display_name": "Python 3",
   "language": "python",
   "name": "python3"
  },
  "language_info": {
   "codemirror_mode": {
    "name": "ipython",
    "version": 3
   },
   "file_extension": ".py",
   "mimetype": "text/x-python",
   "name": "python",
   "nbconvert_exporter": "python",
   "pygments_lexer": "ipython3",
   "version": "3.8.5"
  }
 },
 "nbformat": 4,
 "nbformat_minor": 4
}
