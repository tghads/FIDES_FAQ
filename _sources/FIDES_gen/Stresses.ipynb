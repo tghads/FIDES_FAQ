{
 "cells": [
  {
   "cell_type": "markdown",
   "metadata": {},
   "source": [
    "# FIDES stresses\n",
    "\n",
    "**This section gather the questions related to a problem linked to FIDES EEE stresses**"
   ]
  },
  {
   "cell_type": "markdown",
   "metadata": {},
   "source": [
    "## <span style=\"color:rgb(255,102,25)\"> How are the thermal cycle stress conditions set? </span>\n",
    "\n",
    "<span style=\"color:rgb(255,128,128)\">**How are the thermal cycle stress conditions set? \n",
    "Component manufacturers do not comprehend the thermal cycle stress condition and cannot set it. What is the evaluation method when the necessary conditions are not finalized at the time of evaluation?**</span>\n",
    "\n",
    "The description of the main external thermal cycle stress conditions must be performed by the prime contractor or provided (the best), (or validated) by the customer. Of course, the prime company cannot predict the auto-heating due to the thermal dissipation of the electronic assemblies which must be evaluated by the designers and added by them at part level to the mission profile provided by the prime company. It is sometimes difficult to know perfectly those conditions at the time of the evaluation. In this case, it is recommended to discuss formally this point between the prime company and its subcontractors in order to be able to update the evaluation later (if it is necessary).\n",
    "\n",
    "<span style=\"color:rgb(255,128,128)\">**Let me confirm the definition of the word:**</span>\n",
    "* <span style=\"color:rgb(255,128,128)\">**Is Prime contrator positioned as JAXA or ESA?**</span>\n",
    "* <span style=\"color:rgb(255,128,128)\">**Is Prime company positioned as Mitsubishi Heaby Industry or Airbus?**</span>\n",
    "* <span style=\"color:rgb(255,128,128)\">**Who is Designer? (Prime contractor's designer? Or Prime company's designer?)**</span>\n",
    "* <span style=\"color:rgb(255,128,128)\">**Is Subcontractor under Prime company?**</span>\n",
    "\n",
    "Let me formulate it so it can be clearer:\n",
    "\n",
    "The description of the main external thermal cycle stress conditions can be performed by the supplier <span style=\"color:red\">**at equipment level**</span> and validated by the customer or, and it is the preferred solution, provided by <span style=\"color:red\">**the customer (the prime company) to the supplier**</span>. Because <span style=\"color:red\">**the prime company**</span> cannot predict the physical constraints on the unit (ex: auto-heating due to the thermal dissipation of the electronic assemblies), this must be evaluated <span style=\"color:red\">**by the equipement designers**</span>, both at board level and at component level, to the mission profile provided by the prime company.\n",
    "It is sometimes difficult to know perfectly those conditions at the time of the evaluation. In this case, it is recommended to discuss formally this point between <span style=\"color:red\">**the prime company and its suppliers**</span> in order to be able to update the evaluation later (if it is necessary)."
   ]
  },
  {
   "cell_type": "markdown",
   "metadata": {},
   "source": [
    "## <span style=\"color:rgb(255,102,25)\"> Thermal cycling stress </span>\n",
    "\n",
    "<span style=\"color:rgb(255,128,128)\">**About the \"\"BY STRESS\"\" sheet:**</span>  \n",
    "* <span style=\"color:rgb(255,128,128)\">**Which is the STRESS of the Solder joint?  Is it in Thermal Cycling or Thermo-Elec?**</span>\n",
    "* <span style=\"color:rgb(255,128,128)\">**Is the stress of TcyCase (temperature cycle) and the stress of TcySolderjoints (soldering) combined in Thermal cycling?**</span>\n",
    "* <span style=\"color:rgb(255,128,128)\">**Thermo-Elec may not be displayed depending on the part type. What does Thermo-Elec mean?**</span>\n",
    "\n",
    "Soldering impact considered in the Thermal Cycling, TCYCase and TCYSolderJoints combined in Thermal Cycling. \n",
    "Thermo Elec is considered when both temperature and electrical stresses have impacts on the component, with the calculation based on the Arrhenius law.\n",
    "\n",
    "<span style=\"color:rgb(255,128,128)\">**Is TcyCase + TcySolderjoints = Themal Cycling OK?**</span>  \n",
    "\n",
    "Yes."
   ]
  }
 ],
 "metadata": {
  "kernelspec": {
   "display_name": "Python 3",
   "language": "python",
   "name": "python3"
  },
  "language_info": {
   "codemirror_mode": {
    "name": "ipython",
    "version": 3
   },
   "file_extension": ".py",
   "mimetype": "text/x-python",
   "name": "python",
   "nbconvert_exporter": "python",
   "pygments_lexer": "ipython3",
   "version": "3.8.5"
  }
 },
 "nbformat": 4,
 "nbformat_minor": 4
}
