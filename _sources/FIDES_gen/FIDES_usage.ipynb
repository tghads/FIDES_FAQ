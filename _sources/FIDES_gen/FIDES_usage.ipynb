{
 "cells": [
  {
   "cell_type": "markdown",
   "metadata": {},
   "source": [
    "# FIDES usage\n",
    "\n",
    "**This section gather the questions related to a problem linked to FIDES implementation in their work**\n",
    "\n"
   ]
  },
  {
   "cell_type": "markdown",
   "metadata": {},
   "source": [
    "## <span style=\"color:rgb(255,102,25)\"> FIDES consistency of the field failure data of space systems and rockets? </span>\n",
    "\n",
    "<span style=\"color:rgb(255,128,128)\"> **Have you confirmed the consistency of the field failure data (or test data) of space systems and rockets with the analysis results of FIDES?\n",
    "And if it's possible, send me some example datas…** </span>\n",
    "\n",
    "NRPM Technical Note 6 compared FIDES prediction to some in orbit return of telecommunication satellite which was convincing. This document will be public and available at least for the end of 2020.\n",
    "Also note that AIRBUS DEFENCE & SPACE has used FIDES for its constellation and every new satellite for 3 years, ARIANE 6 has been specified with FIDES, and the French ICBM (with space navigation) have been evaluated and specified with FIDES since 2015 (good correlation with return of the previous ICBM at the time).\n",
    "\n",
    "See https://www.reliability.space/documents/ for more information."
   ]
  },
  {
   "cell_type": "markdown",
   "metadata": {},
   "source": [
    "## <span style=\"color:rgb(255,102,25)\"> FIDES and 217F in the same project </span>\n",
    "\n",
    "<span style=\"color:rgb(255,128,128)\"> **Input information about FIDES λsw (software failure rate) ,for example, what kind of information should be input for \"Deployment Strategy\"?** </span>\n",
    "\n",
    "There is no software failure rate in the FIDES methodology, because it is not designed in order to cover it. In addition, most of the time the concept of software failure rate is questionable. Indeed, all software failures are invariable and come from a process or a human mistake which has nothing to do with a random failure or failure rate."
   ]
  },
  {
   "cell_type": "markdown",
   "metadata": {},
   "source": [
    "## <span style=\"color:rgb(255,102,25)\"> FIDES software failure rate? </span>\n",
    "\n",
    "<span style=\"color:rgb(255,128,128)\"> **Can we use both 217F and FIDES in same system?\n",
    "Is it okay to use FIDES for some components and 217F for other components in the reliability evaluation of one system? I'd like to hear your opinion.** </span>\n",
    "\n",
    "217F and FIDES are not made with the same kind of value. Then you cannot compare the two, they do not evaluate the failure rate the same way with the same complexity or failure mechanism. Thus, this not recommend to mix the two methodologies in a same system evaluation. We are aware that it is complicated to avoid using data from 217F at the time, particularly in case of reuse. So, if it is impossible to avoid it, you should be aware of the following issue:\n",
    "The 217F and FIDES are not consistent, 217F rely on a predefined environment (operational hour) and FIDES rely on mission profile (calendar hour), so the results cannot be directly compared or even mixed. At least it is necessary to adapt the 217F results to the same mission profile (it could be achieved by creating a mission profile equivalent by using environment and thermal data in order to fit with the FIDES mission profile. Then you will use weighted arithmetic mean of failure rates, weighted by the time of each phase of the mission profile, in the aim to make your results consistent with a calendar time). A guidebook is available on FIDES website on this topic."
   ]
  }
 ],
 "metadata": {
  "kernelspec": {
   "display_name": "Python 3",
   "language": "python",
   "name": "python3"
  },
  "language_info": {
   "codemirror_mode": {
    "name": "ipython",
    "version": 3
   },
   "file_extension": ".py",
   "mimetype": "text/x-python",
   "name": "python",
   "nbconvert_exporter": "python",
   "pygments_lexer": "ipython3",
   "version": "3.8.5"
  }
 },
 "nbformat": 4,
 "nbformat_minor": 4
}
