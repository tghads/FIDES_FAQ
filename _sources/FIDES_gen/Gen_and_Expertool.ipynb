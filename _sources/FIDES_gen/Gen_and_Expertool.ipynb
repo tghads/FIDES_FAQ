{
 "cells": [
  {
   "cell_type": "markdown",
   "metadata": {},
   "source": [
    "# FIDES generic questions and Expertool\n",
    "\n",
    "**This section gather the questions related to the different sub sections of the FIDES guide, and their application in the Expertool Excel file.**"
   ]
  },
  {
   "cell_type": "markdown",
   "metadata": {},
   "source": [
    "## <span style=\"color:rgb(255,102,25)\"> HF and RF components </span>\n",
    "\n",
    "<span style=\"color:rgb(255,128,128)\">**About the \"HF AND RF COMPONENT\" sheet:**</span>\n",
    "1.  <span style=\"color:rgb(255,128,128)\">**What kind of analysis should this sheet be used for?**</span>\n",
    "2. <span style=\"color:rgb(255,128,128)\"> **If the Pi process RF / HF of \"Pi_PROCESS & Pi_PM & LIFE PROFILE\" is blank, analysis Failed will appear. On the other hand, even if the \"HF AND RF COMPONENT\" sheet is not entered (blank), the analysis failed does not appear.**</span>\n",
    "3. <span style=\"color:rgb(255,128,128)\"> **If both are included, which one has priority? Is it the value of \"Pi_PROCESS & Pi_PM & LIFE PROFILE\"? Or is it the value of the \"HF AND RF COMPONENT\" sheet?\"**</span>\n",
    "\n",
    "<p> </p>\n",
    "\n",
    "1. It is used only for Radio Frequency components.\n",
    "2. You need to put a default value on the \"mission profile\" sheet (set it at 1 if you have no RF parts)\n",
    "3. The precedence is for the value on the \"HFRF\" sheet over the \"Mission profile\" one\n"
   ]
  },
  {
   "cell_type": "markdown",
   "metadata": {},
   "source": [
    "## <span style=\"color:rgb(255,102,25)\"> HYBRID AND MULTICHIP MODULE</span>\n",
    "\n",
    "<span style=\"color:rgb(255,128,128)\">**About the \"HYBRID AND MULTICHIP MODULE\" sheet:**</span>\n",
    "1.  <span style=\"color:rgb(255,128,128)\">**What kind of analysis should this sheet be used for?**</span>\n",
    "2. <span style=\"color:rgb(255,128,128)\"> **Do we enter only MCMs parts in this sheet? And do parts other than MCMs be entered in the Electronic Componen sheet?**</span>\n",
    "3. <span style=\"color:rgb(255,128,128)\">**When we enter the Component type and Description on this sheet, some cells turn light blue. What does this mean?**</span>\n",
    "\n",
    "<p></p>\n",
    "\n",
    "1. It is used only for Hybrids and MCM elements.\n",
    "2. These parts should always be modelled here, not on the Electronics Component sheet\n",
    "3. The blue cells appear for you to identify the higher level of the hybrid vs the micro-components\n"
   ]
  },
  {
   "cell_type": "markdown",
   "metadata": {},
   "source": [
    "## <span style=\"color:rgb(255,102,25)\"> COTS BOARDS</span>\n",
    "\n",
    "<span style=\"color:rgb(255,128,128)\">**About the \"COTS BOARDS\" sheet:**</span>\n",
    "1.  <span style=\"color:rgb(255,128,128)\">**This sheet is used to evaluate the entire assembly of COTS boards. Is it okay to recognize that?**</span>\n",
    "2. <span style=\"color:rgb(255,128,128)\"> **In that case, if there is any description in the Electronic Component sheet, which one has priority?**</span>\n",
    "\n",
    "<p></p>\n",
    "\n",
    "1. Yes, it is for the modelling of COTS BOARDS.\n",
    "2. If you have some data (for ex: for a DCDC converter), always prefer to model it with the \"\"electronics components\"\" sheet rather than with the COTS board model. Calculating the value on this sheet should be a last resort.\n"
   ]
  },
  {
   "cell_type": "markdown",
   "metadata": {},
   "source": [
    "## <span style=\"color:rgb(255,102,25)\"> VARIOUS SUBASSEMBLIES</span>\n",
    "\n",
    "<span style=\"color:rgb(255,128,128)\">**About the sheet of \"VARIOUS SUBASSEMBLIES“:**</span>\n",
    "1.  <span style=\"color:rgb(255,128,128)\">**What kind of analysis should this sheet be used for? Also, if there is any description in the Electronic Component sheet, which one has priority?**</span>\n",
    "2. <span style=\"color:rgb(255,128,128)\"> **What is the difference from the COTS BOARDS sheet?**</span>\n",
    "\n",
    "<p></p>\n",
    "\n",
    "1. The elements considered here are defined in p201 of the FIDES guide (fans, hard disks, batteries…).\n",
    "2. These are not electronic components and can only be modelled on that sheet.\n"
   ]
  },
  {
   "cell_type": "markdown",
   "metadata": {},
   "source": [
    "## <span style=\"color:rgb(255,102,25)\"> Part count</span>\n",
    "\n",
    "<span style=\"color:rgb(255,128,128)\">**About the \"PART COUNT\" sheet:**</span>\n",
    "1.  <span style=\"color:rgb(255,128,128)\">**What kind of analysis should this sheet be used for?**</span>\n",
    "2. <span style=\"color:rgb(255,128,128)\"> **There are place to enter \"PI placement\" and \"Part Count Parameter (Qamanufacturer, Qacomponent, etc.)\" on this sheet. The former is a content in π Induced. On the other hand, the latter is a content in πPM. Do the \"PI placement\" and \"Part Count Parameter\" in this sheet represent different contents?**</span>\n",
    "3. <span style=\"color:rgb(255,128,128)\">**If we enter the \"Part Count Parameter\" contents, which is prioritized, πPM of \"Pi_PROCESS & Pi_PM & LIFE PROFILE\"?\"**</span>\n",
    "\n",
    "<p></p>\n",
    "\n",
    "1. Performing a calculation with the part count sheet is needed only for design when you don't have enough information to perform the Part Stress method (the one corresponding to the \"\"electronic component\"\" sheet). It is in general used for the early phases of a program.\n",
    "2. To model with the part count method, you need to enter all your components on this sheet with their main parameters. These values will be the one taken into account.\n",
    "3. If the part count sheet is used as well as the other sheet (\"\"electronic component\"\"), all the results will be provided. To make the difference, there is a prefix \"\"Part count\"\" before the name of these parts\n"
   ]
  },
  {
   "cell_type": "markdown",
   "metadata": {},
   "source": [
    "## <span style=\"color:rgb(255,102,25)\"> Family count</span>\n",
    "\n",
    "<span style=\"color:rgb(255,128,128)\">**About the \"FAMILY COUNT\" sheet:**</span>\n",
    "1.  <span style=\"color:rgb(255,128,128)\">**What is the difference from the \"PART COUNT\" sheet?**</span>\n",
    "2. <span style=\"color:rgb(255,128,128)\"> **WIf both the \"FAMILY COUNT\" and \"PART COUNT\" sheets are filled in, which one has priority?**</span>\n",
    "\n",
    "<p></p>\n",
    "\n",
    "1. Same principle as for the Part count. The Family count level is even less accurate than the Part count. Usually, it corresponds to very early phases with less available data.\n",
    "2. If both sheets are filled, you will have the results for both sheets calculated - no priority\n"
   ]
  },
  {
   "cell_type": "code",
   "execution_count": null,
   "metadata": {},
   "outputs": [],
   "source": []
  }
 ],
 "metadata": {
  "kernelspec": {
   "display_name": "Python 3",
   "language": "python",
   "name": "python3"
  },
  "language_info": {
   "codemirror_mode": {
    "name": "ipython",
    "version": 3
   },
   "file_extension": ".py",
   "mimetype": "text/x-python",
   "name": "python",
   "nbconvert_exporter": "python",
   "pygments_lexer": "ipython3",
   "version": "3.8.5"
  }
 },
 "nbformat": 4,
 "nbformat_minor": 4
}
