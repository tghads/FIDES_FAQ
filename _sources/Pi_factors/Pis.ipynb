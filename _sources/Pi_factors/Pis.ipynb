{
 "cells": [
  {
   "cell_type": "markdown",
   "metadata": {},
   "source": [
    "# FIDES Pi factors\n",
    "\n",
    "**This section gather the questions related to Pi factors in FIDES**"
   ]
  },
  {
   "cell_type": "markdown",
   "metadata": {},
   "source": [
    "## <span style=\"color:rgb(255,102,25)\"> δ2 of FIDES πProcess fixed at 2.079 on all parts? </span>\n",
    "\n",
    "<span style=\"color:rgb(255,128,128)\"> **Is it OK that δ2 of the FIDES πProcess is fixed of 2.079 on all parts? (ΠProcess: 2.079 if 1 to 8)**</span>\n",
    "\n",
    "In fact, the πProcess is a value that represent the impact of all the processes used by the companies which are part of the same project. It evaluates them from the specification up to the maintenance phase.\n",
    "This was introduced in the FIDES methodology, because in the late 90s, it appeared clearly that most of the failures derivate from process failures and not from intrinsic failures of electronic components (bad specification, wrong parameter on a production tool, and so on). For example, in the early 2000s, many of the French major companies identified that 70% of the electronic failures were due to process failures. Then it was necessary to take it into consideration into a reliability methodology, and that was one of the strongest recommendations for FIDES.\n",
    "The first FIDES team, which founded the methodology, evaluated that the process part could have an influence by decreasing the reliability by a factor between 1 to 8. So, this is the reason why δ2 is set to 2.079 in order to force the πProcess in an interval between 1 and 8. To have a better understanding of the πProcess and what it stands for, we will illustrate it on an example. \n",
    "If the JAXA, the ESA and the ISRO decided to perform exactly the same satellite, with the same components, the same electronic schemes and you put the 3 satellites on the same mission, you will see that the 3 satellites will have different reliability (with 217F you will have exactly the same). These differences will be linked with the know-how of the 3 companies. This experience and know-how are materialized through the process used by each of the 3 companies, those process will lead to \"\"a level of rigor\"\" toward different aspect including electronic reliability. Then the πProcess factor is there to evaluate the strength of your process toward electronic reliability.\n",
    "Of course, you can also use this πProcess evaluation to find some improvement process aspect. And we are aware that we cannot be sure that the πProcess evaluation is exhaustive and perfectly design but it gives some convincing results to the companies which using it.\n"
   ]
  },
  {
   "cell_type": "markdown",
   "metadata": {},
   "source": [
    "## <span style=\"color:rgb(255,102,25)\"> Difference between default and set πProcess </span>\n",
    "\n",
    "<span style=\"color:rgb(255,128,128)\">**How much is the calculated failure rate difference when πProcess is completed set(by audit) and when it is set default? Do you have data?\n",
    "And if it's possible, send me some example data…**</span>\n",
    "\n",
    "The default πProcess value is 4. The FIDES community feedback is that most of French major companies have a much better value of πProcess (which includes the space prime companies).It means that a value of 4 should be very conservative for the JAMSS and it will be not very relevant to apply the default value.\n",
    "The NRPM Technical Note 8 provides a πProcess audit adapted to space industry in which some questions have been explained in a different way or a little bit adapted in order to match with space industry process.\n",
    "\n",
    "<span style=\"color:rgb(255,128,128)\">**About the audit questionnaire, when should the default value be used?\n",
    "What's the concerns with using the default values?**</span>\n",
    "\n",
    "The default value of 4 as given in the 2009 FIDES guide is now considered too pessimistic, in particular for Space applications. A value of 2 would probably be a better value to consider. In general, Airbus Defence & Space and Thales Alenia Space designs, for standard space applications, are evaluated below 1.3. For New Space, it is a little higher (between 1.3 and 2)."
   ]
  },
  {
   "cell_type": "markdown",
   "metadata": {},
   "source": [
    "## <span style=\"color:rgb(255,102,25)\"> πProcess questions and audit </span>\n",
    "\n",
    "<span style=\"color:rgb(255,128,128)\">**There are many questions (audit items) for setting Process Grade (πProcess). How do you get the answers? Regarding input parameters, many questions are difficult for system manufacturers to answer.**</span>\n",
    "\n",
    "It is necessary to perform an audit (by an internal entity or an external, both are possible) in order to check at least every phase for which you are responsible of in your project. You should prepare it before in order to find the interlocutors, send them the questions they need to answer, helping them to understand what the questions stand for and what kind of proof you need. Then on the audit days (typically we need 2 or 3 days of audit to fully perform it) you should check all the proof provided and inquire about the question without proof in order to check if you can find one directly with the interlocutors.\n",
    "Of course, there is the restitution time in order to share the results and particularly the very good points and the aspects which could be improved in order to increase electronic reliability. This work must be done at the prime company and all its subcontractors in order to determine the project's actual πProcess. \n",
    "NRPM Technical Note 8 will help you to dispatch the question to ask to the prime company and to its subcontractors. Also, please note that the full audit is being updated at the time by the FIDES team and a new one with more details and deeper explanations will be available in 2021, inside the revised FIDES guidebook.\n",
    "\n",
    "<span style=\"color:rgb(255,128,128)\">**About these questions (audit items), do almost surveys fully evaluate it? Or use default frequency?\n",
    "(In the case of the default, what is the reason and background \"\"there is no problem with the default\"\"?)**</span>\n",
    "\n",
    "Most of the time the audit is performed one time for each main process family (rocket, satellite old fashion, satellite new space, ...) applied at a company. The results are used for the different projects unless the process is particularly different between the new project we want to evaluate and the previous which was evaluated by the audit. It is useful to perform it again sometimes.\n",
    "\n",
    "<span style=\"color:rgb(255,128,128)\">**How long does it take a supplier or prime maker to fully implement an audit question? (In the case of one internal manufacturing component, I would like to know the needed time for the investigation answering audit questions.)**</span>\n",
    "\n",
    "2 to 3 days on site for an interviewer, and one or two interviewees per slot of 2-3h, depending on the topics addressed and the people involved. Additionnally, you should consider 1 week to prepare the audit (who to interview, question selection, file preparation...) and some more time to collect/check the evidence, and to produce a report.\n"
   ]
  },
  {
   "cell_type": "markdown",
   "metadata": {},
   "source": [
    "## <span style=\"color:rgb(255,102,25)\"> FIDES π lead free </span>\n",
    "\n",
    "<span style=\"color:rgb(255,128,128)\">**Is FIDES πLF (lead-free correction factor) calculated manually? \n",
    "(The tool does not have a calculation sheet)**</span>\n",
    "\n",
    "Indeed there is no tool available for this part at the time, but ExperTool (which is available for free and validated by FIDES Team) can apply the value obtained through your own calculation.\n",
    "\n",
    "<span style=\"color:rgb(255,128,128)\">**Does FIDES ExperTool(non portable version) include a lead-free calculation tool? \n",
    "(We installed the portable version)**</span>\n",
    "\n",
    "No, you need to calculate it separately and add the result at the top of the mission profile sheet in ExperTool"
   ]
  },
  {
   "cell_type": "markdown",
   "metadata": {},
   "source": [
    "## <span style=\"color:rgb(255,102,25)\"> Pi PM </span>\n",
    "\n",
    "<span style=\"color:rgb(255,128,128)\">**About the \"Electronic Component\" sheet : When should the QA_Manufacure factor, QA_Component factor, RA_Manufacure factor, and Experience factor: ε fields of \"PI_PART\" be entered? \n",
    "πPM of \"Pi_PROCESS & Pi_PM & LIFE PROFILE\" is required.**</span>\n",
    "\n",
    "The order of precedence for the three Pi Manufacturing calculations is as follows:\n",
    "1) Individual definition for the 4 factors on the \"\"electronic components\"\" sheet\n",
    "2) the Pi PM defined for each part on the \"\"electronic components\"\" sheet\n",
    "3) the default Pi PM at the top of the \"\"mission profile\"\" sheet for active and passive parts\n",
    "<p></p>\n",
    "\n",
    "<span style=\"color:rgb(255,128,128)\">**The Pi PM defined for each part on the \"electronic components“ sheet. Where does it mean? **</span>\n",
    "\n",
    "It is the blue column just on the left of the four Pi PM manufacturing columns on the electronic components sheet\n"
   ]
  },
  {
   "cell_type": "markdown",
   "metadata": {},
   "source": [
    "## <span style=\"color:rgb(255,102,25)\"> Will δ1 and α1 of FIDES πPM reviewed ? </span>\n",
    "\n",
    "<span style=\"color:rgb(255,128,128)\">**Are δ1 and α1 of FIDES πPM reviewed at the timing of revision?**</span>\n",
    "\n",
    "They will not be reviewed for the next revision, but could be in a future revision if the FIDES community thinks they must be reviewed. If it seems necessary to revise it, a working group will be created in order to evaluate if they need to be updated and then with which value.\n",
    "Though, the next revision will update the QAmanufacturer, QAcomponent, RAcomponent into the πPM. In addition, NRPM Technical Note 8 also provides some modifications for QAmanufacturer, QAcomponent and RAcomponent for the space industry (some are linked with the next revision update, some other are there uniquely for the space industry).\n"
   ]
  },
  {
   "cell_type": "markdown",
   "metadata": {},
   "source": [
    "## <span style=\"color:rgb(255,102,25)\"> Pi application </span>\n",
    "\n",
    "<span style=\"color:rgb(255,128,128)\">**In the \"\"PI APPLICATION\"\" sheet, both Imposed and Detailed can be entered. When is Imposed used? Is there an index that can be used as a guide when entering a value in Imposed?**</span>\n",
    "\n",
    "A Pi Application has been detailed for Space applications (it is also one of the outputs of the NRPM study).\n",
    "\n",
    "<span style=\"color:rgb(255,128,128)\">**When is π application of \"\"Imposed\"\" entered?　(In the case of we don't know the details of the π application?) Also, I would like to know the width of π application and the default value (reference).**</span>\n",
    "\n",
    "It can be used for instance for confidential applications (military) where the finally customer does not want to give the details of the application but has to provide a figure Range:   1< ∏application  <10\n",
    "No default values available because it really depends on the type of application (can be around 8 for military use of fighters, around 1.1 for satellites in orbit).\n"
   ]
  },
  {
   "cell_type": "markdown",
   "metadata": {},
   "source": [
    "## <span style=\"color:rgb(255,102,25)\"> Pi ruggedising </span>\n",
    "\n",
    "<span style=\"color:rgb(255,128,128)\">**In the \"\"PI RUGGEDISING\"\" sheet, both Imposed and Detailed can be entered. When is Imposed used? What are the widths of π Ruggedising? (Default 1.7 has been confirmed from the manual)\"**</span>\n",
    "\n",
    "When you can have the detail, prefer the detailed version. If you can't, put a default value. For Space applications, the pi ruggedising should be as close to 1 as possible. 1.9 is the absolute worst value, but in ADS for instance, we consider a value around 1.18\n"
   ]
  }
 ],
 "metadata": {
  "kernelspec": {
   "display_name": "Python 3",
   "language": "python",
   "name": "python3"
  },
  "language_info": {
   "codemirror_mode": {
    "name": "ipython",
    "version": 3
   },
   "file_extension": ".py",
   "mimetype": "text/x-python",
   "name": "python",
   "nbconvert_exporter": "python",
   "pygments_lexer": "ipython3",
   "version": "3.8.5"
  }
 },
 "nbformat": 4,
 "nbformat_minor": 4
}
