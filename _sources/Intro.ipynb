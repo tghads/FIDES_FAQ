{
 "cells": [
  {
   "cell_type": "markdown",
   "metadata": {},
   "source": [
    "# FIDES FAQ Documentation\n",
    "\n",
    "This online book has been created in order to give some information about the RAMS people using FIDES standard. It is not meant to be exhaustive, so in any case if you feel the need to add another question to the book, don't hesitate to contact Stéphanie Bourbouse stephanie.bourbouse@airbus.com or our Toulouse manager Malik malik.salhi@airbus.com\n",
    "\n"
   ]
  },
  {
   "cell_type": "markdown",
   "metadata": {},
   "source": [
    "**The following questions are treated within the document:**\n",
    "\n",
    "1. [Rise of temperature” in the FIDES Expertool : how to compute it ?](Expertool/Expertool.ipynb)\n",
    "2. [Space system and rocket launch environments?](FIDES_gen/FIDES_usage.ipynb)\n",
    "3. [FIDES consistency of the field failure data of space systems and rockets?](FIDES_gen/Mission_profile.ipynb)\n",
    "4. [FIDES software failure rate?](FIDES_gen/FIDES_usage.ipynb)\n",
    "5. [δ2 of FIDES πProcess fixed at 2.079 on all parts?](Pi_factors/Pis.ipynb)\n",
    "6. [FIDES π lead free ](Pi_factors/Pis.ipynb)\n",
    "7. [Difference between default and set πProcess ](Pi_factors/Pis.ipynb)\n",
    "8. [Will δ1 and α1 of FIDES πPM reviewed ?](Pi_factors/Pis.ipynb)\n",
    "9. [πProcess questions and audit](Pi_factors/Pis.ipynb)\n",
    "10. [How are the thermal cycle stress conditions set?](FIDES_gen/Stresses.ipynb)\n",
    "11. [Mission time : annual or calendar?](FIDES_gen/Mission_profile.ipynb)\n",
    "12. [Pi application](Pi_factors/Pis.ipynb)\n",
    "13. [Pi ruggedising](Pi_factors/Pis.ipynb)\n",
    "14. [Pi PM](Pi_factors/Pis.ipynb)\n",
    "15. [Thermal cycling stress](FIDES_gen/Stresses.ipynb)\n",
    "16. [HF and RF components](FIDES_gen/Gen_and_Expertool.ipynb)\n",
    "17. [HYBRID AND MULTICHIP MODULE](FIDES_gen/Gen_and_Expertool.ipynb)\n",
    "18. [COTS BOARDS](FIDES_gen/Gen_and_Expertool.ipynb)\n",
    "19. [VARIOUS SUBASSEMBLIES](FIDES_gen/Gen_and_Expertool.ipynb)\n",
    "20. [PART COUNT](FIDES_gen/Gen_and_Expertool.ipynb)\n",
    "21. [FAMILY COUNT](FIDES_gen/Gen_and_Expertool.ipynb)\n",
    "22. [FIDES and 217F in the same project](FIDES_gen/FIDES_usage.ipynb)\n",
    "23. [Categorization of AD Converter](FIDES_gen/FIDES_models.ipynb)\n",
    "24. [HF and RF - How to fill η when the Duty Cycle is changing ?](FIDES_gen/FIDES_models.ipynb)\n",
    "25. [How to model thermistors ?](FIDES_gen/FIDES_models.ipynb)\n",
    "26. [Ceramic capacitors: High CV vs Medium CV](FIDES_gen/FIDES_models.ipynb)\n",
    "27. [SAW filter model](FIDES_gen/FIDES_models.ipynb)\n",
    "28. [Is there any limitation in Expertool ?](Expertool/Expertool.ipynb)\n",
    "29. [Resistors model – some info](FIDES_gen/FIDES_models.ipynb)\n",
    "30. [Mission profile – Chemical : protection level](FIDES_gen/Mission_profile.ipynb)\n",
    "31. [How to use Expertool on Airbus Windows 10 computer?](Expertool/Expertool.ipynb)\n"
   ]
  }
 ],
 "metadata": {
  "kernelspec": {
   "display_name": "Python 3",
   "language": "python",
   "name": "python3"
  },
  "language_info": {
   "codemirror_mode": {
    "name": "ipython",
    "version": 3
   },
   "file_extension": ".py",
   "mimetype": "text/x-python",
   "name": "python",
   "nbconvert_exporter": "python",
   "pygments_lexer": "ipython3",
   "version": "3.8.5"
  }
 },
 "nbformat": 4,
 "nbformat_minor": 4
}
