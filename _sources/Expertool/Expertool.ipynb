{
 "cells": [
  {
   "cell_type": "markdown",
   "metadata": {},
   "source": [
    "# Expertool\n",
    "\n",
    "**This section gather the questions related to the use of the Expertool file**"
   ]
  },
  {
   "attachments": {},
   "cell_type": "markdown",
   "metadata": {},
   "source": [
    "## <span style=\"color:rgb(255,102,25)\"> Rise of temperature” in the FIDES Expertool </span>\n",
    "\n",
    "<span style=\"color:rgb(255,128,128)\"> **Please tell us about the following two questions.** </span>\n",
    "\n",
    "\n",
    "```{image} Rise_tp.png\n",
    ":alt: Rise_of_temp_in_expertool\n",
    ":align: center\n",
    "```\n",
    "\n",
    "The proper selection depends on the use case:\n",
    "- #1 Temperature per phase are close one to another (cf previous slide example)  no need to go into details per mission profile phase. The dimensioning phase will be the on-station one, and the asssociated temperature is close to the temperature of the other phases.\n",
    "For this use case, put the on-station rise of temperature in the global use cell, and leave the other cells empty.\n",
    "- #2 Temperature per phases are very different: in this case, it might be useful to detail the rise of temperature phase by phase. Once again though, if the highest temperature is reached on the on-station phase, it might not be useful to set the temperature for the others phases (the results won’t be very different with or without the details).\n",
    "\n",
    "\n"
   ]
  },
  {
   "attachments": {},
   "cell_type": "markdown",
   "metadata": {},
   "source": [
    "## <span style=\"color:rgb(255,102,25)\"> Expertool limitation </span>\n",
    "\n",
    "<span style=\"color:rgb(255,128,128)\"> **Does the FIDES Expertool Excel that we use for the computation comports some limitations we need to be aware of?** </span>\n",
    "\n",
    "Yes, there are indeed limitations for the Expertool model:\n",
    "- Number of misison profile phases : limited to 19\n",
    "- Number of components : limited to 1000. This often implies to use mode than 1 Expertool file to model all the equipment\n",
    "- Temperatures in mission profile : cannot model negative temperatures. A way to bypass it is to use the absolute value in terms of temperature, because it is assumed that the thermal stresses are similar in terms of amplitude.\n"
   ]
  },
  {
   "cell_type": "markdown",
   "metadata": {},
   "source": [
    "## <span style=\"color:rgb(255,102,25)\"> Expertool on Windows 10 </span>\n",
    "\n",
    "<span style=\"color:rgb(255,128,128)\"> **How to use Expertool on Airbus Windows 10 computer?** </span>\n",
    "\n",
    "In order to be able to launch the Expertool file and perform the calculation, your Expertool folder should be under the C: folder of your computer."
   ]
  }
 ],
 "metadata": {
  "kernelspec": {
   "display_name": "Python 3",
   "language": "python",
   "name": "python3"
  },
  "language_info": {
   "codemirror_mode": {
    "name": "ipython",
    "version": 3
   },
   "file_extension": ".py",
   "mimetype": "text/x-python",
   "name": "python",
   "nbconvert_exporter": "python",
   "pygments_lexer": "ipython3",
   "version": "3.8.5"
  }
 },
 "nbformat": 4,
 "nbformat_minor": 4
}
